{
  "cells": [
    {
      "cell_type": "code",
      "execution_count": 7,
      "metadata": {
        "colab": {
          "base_uri": "https://localhost:8080/",
          "height": 478
        },
        "id": "d8SVa-pKxm9G",
        "outputId": "f88d6cf4-e249-4a04-fba3-2bc3c7314950"
      },
      "outputs": [
        {
          "name": "stdout",
          "output_type": "stream",
          "text": [
            "Collecting openai==0.28.0\n",
            "  Using cached openai-0.28.0-py3-none-any.whl (76 kB)\n",
            "Requirement already satisfied: requests>=2.20 in /usr/local/lib/python3.10/dist-packages (from openai==0.28.0) (2.31.0)\n",
            "Requirement already satisfied: tqdm in /usr/local/lib/python3.10/dist-packages (from openai==0.28.0) (4.66.4)\n",
            "Requirement already satisfied: aiohttp in /usr/local/lib/python3.10/dist-packages (from openai==0.28.0) (3.9.5)\n",
            "Requirement already satisfied: charset-normalizer<4,>=2 in /usr/local/lib/python3.10/dist-packages (from requests>=2.20->openai==0.28.0) (3.3.2)\n",
            "Requirement already satisfied: idna<4,>=2.5 in /usr/local/lib/python3.10/dist-packages (from requests>=2.20->openai==0.28.0) (3.7)\n",
            "Requirement already satisfied: urllib3<3,>=1.21.1 in /usr/local/lib/python3.10/dist-packages (from requests>=2.20->openai==0.28.0) (2.0.7)\n",
            "Requirement already satisfied: certifi>=2017.4.17 in /usr/local/lib/python3.10/dist-packages (from requests>=2.20->openai==0.28.0) (2024.2.2)\n",
            "Requirement already satisfied: aiosignal>=1.1.2 in /usr/local/lib/python3.10/dist-packages (from aiohttp->openai==0.28.0) (1.3.1)\n",
            "Requirement already satisfied: attrs>=17.3.0 in /usr/local/lib/python3.10/dist-packages (from aiohttp->openai==0.28.0) (23.2.0)\n",
            "Requirement already satisfied: frozenlist>=1.1.1 in /usr/local/lib/python3.10/dist-packages (from aiohttp->openai==0.28.0) (1.4.1)\n",
            "Requirement already satisfied: multidict<7.0,>=4.5 in /usr/local/lib/python3.10/dist-packages (from aiohttp->openai==0.28.0) (6.0.5)\n",
            "Requirement already satisfied: yarl<2.0,>=1.0 in /usr/local/lib/python3.10/dist-packages (from aiohttp->openai==0.28.0) (1.9.4)\n",
            "Requirement already satisfied: async-timeout<5.0,>=4.0 in /usr/local/lib/python3.10/dist-packages (from aiohttp->openai==0.28.0) (4.0.3)\n",
            "Installing collected packages: openai\n",
            "  Attempting uninstall: openai\n",
            "    Found existing installation: openai 1.31.0\n",
            "    Uninstalling openai-1.31.0:\n",
            "      Successfully uninstalled openai-1.31.0\n",
            "Successfully installed openai-0.28.0\n"
          ]
        },
        {
          "data": {
            "application/vnd.colab-display-data+json": {
              "id": "9b2cb4393ac743029b370306bf7fe7d3",
              "pip_warning": {
                "packages": [
                  "openai"
                ]
              }
            }
          },
          "metadata": {},
          "output_type": "display_data"
        }
      ],
      "source": [
        "#Install the OpenAI package in the version that supports the ChatCompletion feature\n",
        "!pip install openai==0.28.0"
      ]
    },
    {
      "cell_type": "code",
      "execution_count": 1,
      "metadata": {
        "colab": {
          "base_uri": "https://localhost:8080/"
        },
        "id": "xa_h5LcUot7q",
        "outputId": "fdb55de2-8421-4f47-eae9-2f2adaa7a8dc"
      },
      "outputs": [
        {
          "name": "stdout",
          "output_type": "stream",
          "text": [
            "Requirement already satisfied: flask in /usr/local/lib/python3.10/dist-packages (2.2.5)\n",
            "Requirement already satisfied: Werkzeug>=2.2.2 in /usr/local/lib/python3.10/dist-packages (from flask) (3.0.3)\n",
            "Requirement already satisfied: Jinja2>=3.0 in /usr/local/lib/python3.10/dist-packages (from flask) (3.1.4)\n",
            "Requirement already satisfied: itsdangerous>=2.0 in /usr/local/lib/python3.10/dist-packages (from flask) (2.2.0)\n",
            "Requirement already satisfied: click>=8.0 in /usr/local/lib/python3.10/dist-packages (from flask) (8.1.7)\n",
            "Requirement already satisfied: MarkupSafe>=2.0 in /usr/local/lib/python3.10/dist-packages (from Jinja2>=3.0->flask) (2.1.5)\n"
          ]
        }
      ],
      "source": [
        "#Installing the flask package for frontend development\n",
        "!pip install flask"
      ]
    },
    {
      "cell_type": "code",
      "execution_count": 2,
      "metadata": {
        "colab": {
          "base_uri": "https://localhost:8080/"
        },
        "id": "s32yseZ0zNNC",
        "outputId": "7f45116a-00f3-4e69-8e9e-74654e588b72"
      },
      "outputs": [
        {
          "name": "stdout",
          "output_type": "stream",
          "text": [
            "0.28.0\n"
          ]
        }
      ],
      "source": [
        "#Checking the OpenAI version that has been installed and is running\n",
        "import openai\n",
        "\n",
        "print(openai.__version__)"
      ]
    },
    {
      "cell_type": "code",
      "execution_count": 3,
      "metadata": {
        "id": "6uaCfIsOneuI"
      },
      "outputs": [],
      "source": [
        "#Importing the required packages\n",
        "from flask import Flask, request, render_template\n",
        "import openai\n",
        "#Setting up the OpenAI API key\n",
        "#openai.api_key = \"ADD KEY HERE\"\n",
        "app = Flask(__name__)"
      ]
    },
    {
      "cell_type": "code",
      "execution_count": 4,
      "metadata": {
        "colab": {
          "base_uri": "https://localhost:8080/"
        },
        "id": "h6zsrBm-3SxW",
        "outputId": "8746637b-553e-48c6-9141-538c58ebcf82"
      },
      "outputs": [
        {
          "name": "stdout",
          "output_type": "stream",
          "text": [
            "Prompt 1: 1. \"Create a list of top 10 must-try Kenyan dishes and where to find them in Nairobi.\"\n",
            "2. \"Explore the diverse culinary scene in Mombasa with a guide to the best local eateries for seafood lovers.\"\n",
            "3. \"Discover hidden gem restaurants in the Rift Valley region that offer traditional Kenyan cuisine with a modern twist.\"\n",
            "4. \"Plan a foodie adventure in Kisumu and sample unique street food delicacies along the bustling markets and waterfront.\"\n",
            "5. \"Embark on a safari for your taste buds in Maasai Mara by dining at lodges offering gourmet dining experiences with a view of the wildlife.\"\n",
            "Prompt 2: 1. Create a list of top 10 must-try restaurants in Nairobi, Kenya.\n",
            "2. Share a guide to traditional Kenyan cuisine and recommend the best local eateries to experience authentic flavors.\n",
            "3. Explore unique dining experiences in coastal cities like Mombasa and recommend popular seafood restaurants.\n",
            "4. Suggest family-friendly restaurants in Kenya with diverse menu options to cater to different tastes and preferences.\n",
            "5. Curate a list of budget-friendly eateries across Kenya that offer delicious food without breaking the bank.\n",
            "Prompt 3: 1. \"Create a list of top 10 must-try restaurants in Nairobi, Kenya.\"\n",
            "2. \"Share a guide to the best street food spots in Mombasa, Kenya.\"\n",
            "3. \"Recommend unique dining experiences in the Maasai Mara region of Kenya.\"\n",
            "4. \"Explore the culinary scene in Lamu Island, Kenya, and suggest popular eateries.\"\n",
            "5. \"Discuss traditional Kenyan dishes and where to find them outside of major cities.\"\n",
            "Prompt 4: 1. \"Create a list of top 10 must-try traditional Kenyan dishes and where to find them in Kenya.\"\n",
            "2. \"Recommend five hidden gem restaurants in Kenya that offer unique and authentic dining experiences.\"\n",
            "3. \"Share your tips for finding the best street food vendors and local eateries in Kenya for a budget-friendly culinary adventure.\"\n",
            "4. \"Explore the diverse culinary scene in Kenya by highlighting restaurants that specialize in fusion cuisine blending traditional Kenyan flavors with international influences.\"\n",
            "5. \"Curate a foodie's guide to dining in Nairobi, featuring a mix of upscale restaurants, trendy cafes, and casual eateries for every palate and preference.\"\n",
            "Prompt 5: 1. Create a list of the top 10 must-try restaurants in Nairobi, Kenya.\n",
            "2. Share a guide to the best street food vendors in Mombasa, Kenya.\n",
            "3. Recommend unique dining experiences in the Maasai Mara National Reserve, Kenya.\n",
            "4. Suggest hidden gem eateries in Kisumu, Kenya that locals love.\n",
            "5. Provide tips for trying traditional Kenyan dishes at local markets across the country.\n"
          ]
        }
      ],
      "source": [
        "#Prompt generation\n",
        "def generate_prompts(user_question, num_prompts=3):\n",
        "    # Generate prompts using the OpenAI API\n",
        "    instruction = f\"Generate {num_prompts} different prompts based on the following user question: '{user_question}'\"\n",
        "    response = openai.ChatCompletion.create(\n",
        "        model=\"gpt-3.5-turbo\",\n",
        "        messages=[\n",
        "            {\"role\": \"system\", \"content\": \"You are a helpful assistant.\"},\n",
        "            {\"role\": \"user\", \"content\": instruction}\n",
        "        ],\n",
        "        max_tokens=150,\n",
        "        n=num_prompts,\n",
        "        temperature=0.7\n",
        "    )\n",
        "    prompts = [choice['message']['content'].strip() for choice in response['choices']]\n",
        "    return prompts\n",
        "    # Example usage\n",
        "user_question = \"Places to eat in Kenya\"\n",
        "generated_prompts = generate_prompts(user_question, num_prompts=5)\n",
        "for i, prompt in enumerate(generated_prompts, start=1):\n",
        "    print(f\"Prompt {i}: {prompt}\")"
      ]
    },
    {
      "cell_type": "code",
      "execution_count": null,
      "metadata": {
        "colab": {
          "base_uri": "https://localhost:8080/"
        },
        "id": "9jcEP-X6nz6I",
        "outputId": "5200a5bf-c02c-443f-d31f-a44ee88218b9"
      },
      "outputs": [
        {
          "name": "stdout",
          "output_type": "stream",
          "text": [
            " * Serving Flask app '__main__'\n",
            " * Debug mode: on\n"
          ]
        },
        {
          "name": "stderr",
          "output_type": "stream",
          "text": [
            "INFO:werkzeug:\u001b[31m\u001b[1mWARNING: This is a development server. Do not use it in a production deployment. Use a production WSGI server instead.\u001b[0m\n",
            " * Running on http://127.0.0.1:5000\n",
            "INFO:werkzeug:\u001b[33mPress CTRL+C to quit\u001b[0m\n",
            "INFO:werkzeug: * Restarting with stat\n"
          ]
        }
      ],
      "source": [
        "#Connecting with the frontend\n",
        "@app.route('/')\n",
        "def index():\n",
        "    return render_template('index.html')\n",
        "\n",
        "@app.route('/generate', methods=['POST'])\n",
        "def generate():\n",
        "    user_question = request.form['user_question']\n",
        "    generated_prompts = generate_prompts(user_question, num_prompts=5)\n",
        "    return render_template('result.html', user_question=user_question, generated_prompts=generated_prompts)\n",
        "\n",
        "if __name__ == '__main__':\n",
        "    app.run(debug=True)"
      ]
    }
  ],
  "metadata": {
    "colab": {
      "provenance": []
    },
    "kernelspec": {
      "display_name": "Python 3",
      "name": "python3"
    },
    "language_info": {
      "name": "python"
    }
  },
  "nbformat": 4,
  "nbformat_minor": 0
}
